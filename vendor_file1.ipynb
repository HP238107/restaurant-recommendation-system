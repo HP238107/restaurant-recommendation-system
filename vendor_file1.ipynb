{
 "cells": [
  {
   "cell_type": "code",
   "execution_count": 1,
   "id": "f11ca5eb",
   "metadata": {},
   "outputs": [],
   "source": [
    "import pandas as pd"
   ]
  },
  {
   "cell_type": "code",
   "execution_count": 2,
   "id": "7cc7fde4",
   "metadata": {},
   "outputs": [],
   "source": [
    "df1= pd.read_csv('C:/Users/hp/Downloads/case study -1/vendors.csv')"
   ]
  },
  {
   "cell_type": "code",
   "execution_count": 3,
   "id": "4bc559fb",
   "metadata": {},
   "outputs": [],
   "source": [
    "df1=df1.rename(columns={'latitude':'ven_latitude','longitude':'ven_longitude','id':'vendor_id'})\n"
   ]
  },
  {
   "cell_type": "code",
   "execution_count": 4,
   "id": "fc9807a9",
   "metadata": {},
   "outputs": [],
   "source": [
    "df1['rank']=df1['rank'].replace({1:0,11:1}) #replacing rank 11 with 1 and 1 with 0\n"
   ]
  },
  {
   "cell_type": "code",
   "execution_count": 5,
   "id": "a3439525",
   "metadata": {},
   "outputs": [],
   "source": [
    "def tagssort(x):\n",
    "  \n",
    "  a=x.split(\":\")[1]\n",
    "  return int(a.split('\"')[1])\n",
    "df1['primary_tags'].fillna('{\"primary_tags\":\"0\"}',inplace=True)\n",
    "df1['primary_tags']=df1['primary_tags'].apply(tagssort)"
   ]
  },
  {
   "cell_type": "code",
   "execution_count": 6,
   "id": "d6a39b1e",
   "metadata": {},
   "outputs": [],
   "source": [
    "df1.drop(['language','display_orders','device_type','city_id','country_id','open_close_flags','commission','is_akeed_delivering','one_click_vendor'],axis=1,inplace=True)\n",
    "df1.drop(['OpeningTime','OpeningTime2'],axis=1,inplace=True) \n",
    "df1.drop('vendor_tag',axis=1,inplace=True)\n",
    "df1.drop(['thursday_from_time1','thursday_from_time2','thursday_to_time1','thursday_to_time2'],axis=1,inplace=True)\n",
    "df1.drop(['wednesday_from_time1','wednesday_from_time2','wednesday_to_time1','wednesday_to_time2'],axis=1,inplace=True)\n",
    "df1.drop(['monday_from_time1','monday_from_time2','monday_to_time1','monday_to_time2'],axis=1,inplace=True)\n",
    "df1.drop(['sunday_from_time1','sunday_from_time2','sunday_to_time1','sunday_to_time2'],axis=1,inplace=True)\n",
    "df1.drop(['friday_from_time1','friday_from_time2','friday_to_time1','friday_to_time2'],axis=1,inplace=True)\n",
    "df1.drop(['created_at','updated_at'],axis=1,inplace=True)"
   ]
  },
  {
   "cell_type": "code",
   "execution_count": 18,
   "id": "b7b06a58",
   "metadata": {},
   "outputs": [
    {
     "data": {
      "text/html": [
       "<div>\n",
       "<style scoped>\n",
       "    .dataframe tbody tr th:only-of-type {\n",
       "        vertical-align: middle;\n",
       "    }\n",
       "\n",
       "    .dataframe tbody tr th {\n",
       "        vertical-align: top;\n",
       "    }\n",
       "\n",
       "    .dataframe thead th {\n",
       "        text-align: right;\n",
       "    }\n",
       "</style>\n",
       "<table border=\"1\" class=\"dataframe\">\n",
       "  <thead>\n",
       "    <tr style=\"text-align: right;\">\n",
       "      <th></th>\n",
       "      <th>vendor_id</th>\n",
       "      <th>ven_latitude</th>\n",
       "      <th>ven_longitude</th>\n",
       "      <th>vendor_category_en</th>\n",
       "      <th>delivery_charge</th>\n",
       "      <th>serving_distance</th>\n",
       "      <th>is_open</th>\n",
       "      <th>prepration_time</th>\n",
       "      <th>rank</th>\n",
       "      <th>primary_tags</th>\n",
       "      <th>vendor_rating</th>\n",
       "      <th>vendor_tag_name</th>\n",
       "    </tr>\n",
       "  </thead>\n",
       "  <tbody>\n",
       "    <tr>\n",
       "      <th>0</th>\n",
       "      <td>4</td>\n",
       "      <td>-0.588596</td>\n",
       "      <td>0.754434</td>\n",
       "      <td>Restaurants</td>\n",
       "      <td>0.0</td>\n",
       "      <td>6.0</td>\n",
       "      <td>1.0</td>\n",
       "      <td>15</td>\n",
       "      <td>1</td>\n",
       "      <td>4</td>\n",
       "      <td>4.4</td>\n",
       "      <td>Arabic,Breakfast,Burgers,Desserts,Free_Deliver...</td>\n",
       "    </tr>\n",
       "    <tr>\n",
       "      <th>1</th>\n",
       "      <td>13</td>\n",
       "      <td>-0.471654</td>\n",
       "      <td>0.744470</td>\n",
       "      <td>Restaurants</td>\n",
       "      <td>0.7</td>\n",
       "      <td>5.0</td>\n",
       "      <td>1.0</td>\n",
       "      <td>14</td>\n",
       "      <td>1</td>\n",
       "      <td>7</td>\n",
       "      <td>4.7</td>\n",
       "      <td>Breakfast,Cakes,Crepes,Italian,Pasta,Pizzas,Sa...</td>\n",
       "    </tr>\n",
       "    <tr>\n",
       "      <th>2</th>\n",
       "      <td>20</td>\n",
       "      <td>-0.407527</td>\n",
       "      <td>0.643681</td>\n",
       "      <td>Restaurants</td>\n",
       "      <td>0.0</td>\n",
       "      <td>8.0</td>\n",
       "      <td>1.0</td>\n",
       "      <td>19</td>\n",
       "      <td>0</td>\n",
       "      <td>71</td>\n",
       "      <td>4.5</td>\n",
       "      <td>Breakfast,Desserts,Free_Delivery,Indian</td>\n",
       "    </tr>\n",
       "    <tr>\n",
       "      <th>3</th>\n",
       "      <td>23</td>\n",
       "      <td>-0.585385</td>\n",
       "      <td>0.753811</td>\n",
       "      <td>Restaurants</td>\n",
       "      <td>0.0</td>\n",
       "      <td>5.0</td>\n",
       "      <td>1.0</td>\n",
       "      <td>16</td>\n",
       "      <td>1</td>\n",
       "      <td>46</td>\n",
       "      <td>4.5</td>\n",
       "      <td>Burgers,Desserts,Fries,Salads</td>\n",
       "    </tr>\n",
       "    <tr>\n",
       "      <th>4</th>\n",
       "      <td>28</td>\n",
       "      <td>0.480602</td>\n",
       "      <td>0.552850</td>\n",
       "      <td>Restaurants</td>\n",
       "      <td>0.7</td>\n",
       "      <td>15.0</td>\n",
       "      <td>1.0</td>\n",
       "      <td>10</td>\n",
       "      <td>1</td>\n",
       "      <td>32</td>\n",
       "      <td>4.4</td>\n",
       "      <td>Burgers</td>\n",
       "    </tr>\n",
       "  </tbody>\n",
       "</table>\n",
       "</div>"
      ],
      "text/plain": [
       "   vendor_id  ven_latitude  ven_longitude vendor_category_en  delivery_charge  \\\n",
       "0          4     -0.588596       0.754434        Restaurants              0.0   \n",
       "1         13     -0.471654       0.744470        Restaurants              0.7   \n",
       "2         20     -0.407527       0.643681        Restaurants              0.0   \n",
       "3         23     -0.585385       0.753811        Restaurants              0.0   \n",
       "4         28      0.480602       0.552850        Restaurants              0.7   \n",
       "\n",
       "   serving_distance  is_open  prepration_time  rank  primary_tags  \\\n",
       "0               6.0      1.0               15     1             4   \n",
       "1               5.0      1.0               14     1             7   \n",
       "2               8.0      1.0               19     0            71   \n",
       "3               5.0      1.0               16     1            46   \n",
       "4              15.0      1.0               10     1            32   \n",
       "\n",
       "   vendor_rating                                    vendor_tag_name  \n",
       "0            4.4  Arabic,Breakfast,Burgers,Desserts,Free_Deliver...  \n",
       "1            4.7  Breakfast,Cakes,Crepes,Italian,Pasta,Pizzas,Sa...  \n",
       "2            4.5            Breakfast,Desserts,Free_Delivery,Indian  \n",
       "3            4.5                      Burgers,Desserts,Fries,Salads  \n",
       "4            4.4                                            Burgers  "
      ]
     },
     "execution_count": 18,
     "metadata": {},
     "output_type": "execute_result"
    }
   ],
   "source": [
    "df1= df1.loc[0:,['vendor_id','ven_latitude','ven_longitude','vendor_category_en','delivery_charge','serving_distance','is_open','prepration_time','rank','primary_tags','vendor_rating','vendor_tag_name']]\n",
    "df1.head()"
   ]
  },
  {
   "cell_type": "code",
   "execution_count": 20,
   "id": "7cf0698b",
   "metadata": {},
   "outputs": [],
   "source": [
    "a=df1['vendor_tag_name']=df1['vendor_tag_name'].astype(str)\n",
    "\n",
    "\n"
   ]
  },
  {
   "cell_type": "code",
   "execution_count": 21,
   "id": "df9ad681",
   "metadata": {},
   "outputs": [],
   "source": [
    "import re\n",
    "def clean_text(text):\n",
    "        text=re.sub(\"\\s\",'_',text)\n",
    "        return text"
   ]
  },
  {
   "cell_type": "code",
   "execution_count": 22,
   "id": "5300dca2",
   "metadata": {},
   "outputs": [],
   "source": [
    "df1['vendor_tag_name']=df1['vendor_tag_name'].apply(lambda x: clean_text(x))"
   ]
  },
  {
   "cell_type": "code",
   "execution_count": 36,
   "id": "17a21aa1",
   "metadata": {},
   "outputs": [],
   "source": [
    "df1.to_csv('new_vendor.csv',index=False)"
   ]
  },
  {
   "cell_type": "code",
   "execution_count": null,
   "id": "f5e27f73",
   "metadata": {},
   "outputs": [],
   "source": []
  },
  {
   "cell_type": "code",
   "execution_count": null,
   "id": "a7a40b38",
   "metadata": {},
   "outputs": [],
   "source": []
  }
 ],
 "metadata": {
  "kernelspec": {
   "display_name": "Python 3",
   "language": "python",
   "name": "python3"
  },
  "language_info": {
   "codemirror_mode": {
    "name": "ipython",
    "version": 3
   },
   "file_extension": ".py",
   "mimetype": "text/x-python",
   "name": "python",
   "nbconvert_exporter": "python",
   "pygments_lexer": "ipython3",
   "version": "3.8.8"
  }
 },
 "nbformat": 4,
 "nbformat_minor": 5
}
